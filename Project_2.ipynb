{
 "cells": [
  {
   "cell_type": "markdown",
   "id": "0bb02cc6-7ec0-4e5a-a52a-c2d212ba096a",
   "metadata": {},
   "source": [
    "## Project 2 - Web Scraping\n",
    "\n",
    "Arkael Kernizan <br>\n",
    "11/2/2024"
   ]
  },
  {
   "cell_type": "markdown",
   "id": "a546951d-a00c-4928-a74f-feb2167eb797",
   "metadata": {},
   "source": [
    "The purpose of this program is to gather data about the Manchester City Football Club from FBref and answer 4 questions."
   ]
  },
  {
   "cell_type": "markdown",
   "id": "d03510a1-a523-4bf9-90bf-228951e91083",
   "metadata": {},
   "source": [
    "### Imports"
   ]
  },
  {
   "cell_type": "code",
   "execution_count": 4,
   "id": "5048f126-dd7e-4dfd-a1dd-35079e12be05",
   "metadata": {},
   "outputs": [],
   "source": [
    "import requests\n",
    "import time\n",
    "from bs4 import BeautifulSoup as bs\n",
    "import pandas as pd\n",
    "import numpy as np\n",
    "import matplotlib\n",
    "import matplotlib.pyplot as plt\n",
    "import seaborn as sns"
   ]
  },
  {
   "cell_type": "code",
   "execution_count": 5,
   "id": "3e4c509b-36a7-4b74-8d40-6bf01ca4e443",
   "metadata": {},
   "outputs": [
    {
     "name": "stdout",
     "output_type": "stream",
     "text": [
      "seaborn version: 0.13.2\n",
      "matplotlib version: 3.9.2\n"
     ]
    }
   ],
   "source": [
    "print('seaborn version:', sns.__version__)\n",
    "print('matplotlib version:', matplotlib.__version__)"
   ]
  },
  {
   "cell_type": "markdown",
   "id": "76554177-5f46-4681-9df9-9d95eb9b8439",
   "metadata": {},
   "source": []
  },
  {
   "cell_type": "markdown",
   "id": "85fe1abd-197f-4174-9f18-0bfb76e778d0",
   "metadata": {},
   "source": [
    "### Main scraping function\n",
    "\n",
    "- The function below is used grab the HTML of website. If the request is succesful it is returned, else the status error will print."
   ]
  },
  {
   "cell_type": "code",
   "execution_count": 8,
   "id": "74eb2c6e-2c32-4515-aab2-912829a49015",
   "metadata": {},
   "outputs": [],
   "source": [
    "def get_website(url):\n",
    "    response = requests.get(url)\n",
    "    status = response.status_code\n",
    "    \n",
    "    if status == 200:\n",
    "        return response.text\n",
    "    else: \n",
    "        print(f'whoops, recieved status is: {status}')"
   ]
  },
  {
   "cell_type": "markdown",
   "id": "afaed618-97ca-47e8-bd89-7ec26e363d44",
   "metadata": {},
   "source": [
    "## Question 1: What is the average amount of playing time substitute players have played in games this season?\n"
   ]
  },
  {
   "cell_type": "markdown",
   "id": "17ccdc39-584a-494c-be26-cba7c20b5727",
   "metadata": {},
   "source": [
    "First an HTML GET request is made to [FBref: Manchester City Page](https://fbref.com/en/squads/b8fd03ef/Manchester-City-Stats). The Playing Time table is scraped, collecting players' names, the number of games played as a substitute, and the minutes played as a substitute. The average substitute min per game is calculated."
   ]
  },
  {
   "cell_type": "code",
   "execution_count": 11,
   "id": "e1b69d9c-8420-4882-af88-1841d577f2ec",
   "metadata": {},
   "outputs": [],
   "source": [
    "# starting link to request HTML\n",
    "url = 'https://fbref.com/en/squads/b8fd03ef/Manchester-City-Stats'\n",
    "page = get_website(url)\n",
    "# url HTML saved\n",
    "soup = bs(page)"
   ]
  },
  {
   "cell_type": "code",
   "execution_count": 12,
   "id": "76e74e3d-f63e-475e-81e7-d2e6171af032",
   "metadata": {},
   "outputs": [],
   "source": [
    "# scrape and store Playing Table from soup \n",
    "playingTimeStats = []\n",
    "playingTimeTable = soup.find(class_ = 'stats_table', id = 'stats_playing_time_9').tbody"
   ]
  },
  {
   "cell_type": "code",
   "execution_count": 13,
   "id": "5cac8119-265f-4605-86ca-0254da34fa5a",
   "metadata": {},
   "outputs": [],
   "source": [
    "# for loop to iterate through Playing Time table\n",
    "# grab player name, # of games, and sub mins played\n",
    "for row in playingTimeTable.find_all('tr'):\n",
    "    time.sleep(2)\n",
    "    player = row.find(attrs = {'data-stat':'player', 'scope':'row'}).text\n",
    "    subGames = row.find(attrs = {'data-stat':'games_subs'}).text\n",
    "    subTime = row.find(attrs = {'data-stat':'minutes_per_sub'}).text\n",
    "    playingTimeStats.append({'player': player, '# of games': subGames, 'minutes played': subTime})\n",
    "substituteTime = pd.DataFrame(playingTimeStats)"
   ]
  },
  {
   "cell_type": "code",
   "execution_count": 14,
   "id": "3ca090f3-6a19-4925-94f9-916d4ec051ed",
   "metadata": {},
   "outputs": [],
   "source": [
    "# remove empty rows from DataFrame, convert columns to float\n",
    "# can perform count as float\n",
    "substituteTime = substituteTime[substituteTime['# of games'] != '0']    \n",
    "substituteTime['# of games'] = substituteTime['# of games'].astype(float)\n",
    "substituteTime['minutes played'] = substituteTime['minutes played'].astype(float)"
   ]
  },
  {
   "cell_type": "code",
   "execution_count": 15,
   "id": "6690b8c1-ed67-4c05-bf7e-0e00b6bf045f",
   "metadata": {},
   "outputs": [
    {
     "data": {
      "text/plain": [
       "9.76"
      ]
     },
     "execution_count": 15,
     "metadata": {},
     "output_type": "execute_result"
    }
   ],
   "source": [
    "numGamesPlayed = substituteTime['# of games'].sum()\n",
    "numMinsPlayeed = substituteTime['minutes played'].sum()\n",
    "minsPerGame = round(numMinsPlayeed/numGamesPlayed, 2)\n",
    "minsPerGame"
   ]
  },
  {
   "cell_type": "markdown",
   "id": "a74c619e-5bec-4536-bff8-f87797b5bb75",
   "metadata": {},
   "source": [
    "#### Answer: Based on collected data, a substitute player for Manchester City can expect to play for an average of *9.76* mins per game if they play."
   ]
  },
  {
   "cell_type": "code",
   "execution_count": null,
   "id": "87d9debe-271a-4d48-8fbb-c712ce5acb0a",
   "metadata": {},
   "outputs": [],
   "source": []
  },
  {
   "cell_type": "markdown",
   "id": "9006f1b8-1429-464f-9f80-1c91b13330da",
   "metadata": {},
   "source": [
    "## Question 2: With the current roster, from the years 2015-2024, which year did the team have the most goals?\n"
   ]
  },
  {
   "cell_type": "markdown",
   "id": "867ef724-858f-4172-859a-01fcd6ca34c4",
   "metadata": {},
   "source": [
    "Like the previous question, [FBref: Manchester City Page](https://fbref.com/en/squads/b8fd03ef/Manchester-City-Stats) is requested. The Standard Stats table is saved and scraped for the players' personal link. When concatenated with FBref base url, the player's links are created. These links contain individual stats from each player's career. From the player link, the goals and seasons they scored while playing for Manchester City are scraped from the page. These goals are stored in a Data Frame and grouped by the years they were scored."
   ]
  },
  {
   "cell_type": "code",
   "execution_count": 19,
   "id": "8e67455c-104c-46b5-849b-be8c448b35a0",
   "metadata": {},
   "outputs": [],
   "source": [
    "url = 'https://fbref.com/en/squads/b8fd03ef/Manchester-City-Stats'\n",
    "urlBase = 'https://fbref.com/'\n",
    "page = get_website(url)\n",
    "soup = bs(page)\n",
    "\n",
    "playerLinks = []\n",
    "standardTable = soup.find(id = 'stats_standard_9').tbody\n",
    "\n",
    "# this for loop gets the player's personal links \n",
    "for row in standardTable.find_all('tr'):\n",
    "    time.sleep(5)\n",
    "    playerUrl = urlBase + row.find(attrs = {'data-stat': 'player'}).a['href']\n",
    "    playerLinks.append(playerUrl)"
   ]
  },
  {
   "cell_type": "code",
   "execution_count": 20,
   "id": "2b05bbee-3aa6-427f-b4c8-7a704ac9a125",
   "metadata": {},
   "outputs": [
    {
     "data": {
      "text/plain": [
       "['https://fbref.com//en/players/3bb7b8b4/Ederson',\n",
       " 'https://fbref.com//en/players/1f44ac21/Erling-Haaland',\n",
       " 'https://fbref.com//en/players/5ad50391/Josko-Gvardiol',\n",
       " 'https://fbref.com//en/players/3eb22ec9/Bernardo-Silva',\n",
       " 'https://fbref.com//en/players/79c0821a/Mateo-Kovacic',\n",
       " 'https://fbref.com//en/players/89ac64a6/Manuel-Akanji',\n",
       " 'https://fbref.com//en/players/31c69ef1/Ruben-Dias',\n",
       " 'https://fbref.com//en/players/b57e066e/Rico-Lewis',\n",
       " 'https://fbref.com//en/players/819b3158/Ilkay-Gundogan',\n",
       " 'https://fbref.com//en/players/fe6e7156/Savio',\n",
       " 'https://fbref.com//en/players/fffea3e5/Jeremy-Doku',\n",
       " 'https://fbref.com//en/players/86dd77d1/Kyle-Walker',\n",
       " 'https://fbref.com//en/players/e46012d4/Kevin-De-Bruyne',\n",
       " 'https://fbref.com//en/players/b0b4fd3e/Jack-Grealish',\n",
       " 'https://fbref.com//en/players/ed1e53f3/Phil-Foden',\n",
       " 'https://fbref.com//en/players/5eecec3d/John-Stones',\n",
       " 'https://fbref.com//en/players/e6af02e0/Matheus-Nunes',\n",
       " 'https://fbref.com//en/players/eaeca114/Nathan-Ake',\n",
       " 'https://fbref.com//en/players/6434f10d/Rodri',\n",
       " 'https://fbref.com//en/players/96593e89/James-Mcatee',\n",
       " 'https://fbref.com//en/players/3e1550ee/Scott-Carson',\n",
       " 'https://fbref.com//en/players/c066d1a5/Issa-Kabore',\n",
       " 'https://fbref.com//en/players/c1242d4e/Stefan-Ortega',\n",
       " 'https://fbref.com//en/players/91ca4a16/Nico-OReilly',\n",
       " 'https://fbref.com//en/players/383b10fd/Jahmai-Simpson-Pusey',\n",
       " 'https://fbref.com//en/players/b6db05c3/Jacob-Wright']"
      ]
     },
     "execution_count": 20,
     "metadata": {},
     "output_type": "execute_result"
    }
   ],
   "source": [
    "playerLinks"
   ]
  },
  {
   "cell_type": "markdown",
   "id": "a8e4abe6-4396-4822-a98e-96935c4c01de",
   "metadata": {},
   "source": [
    "### Individual player scraping function \n",
    "- The function will scrape the HTML from the Standard Stats table of a player's profile page\n",
    "- The season and goals are collected and added to a list"
   ]
  },
  {
   "cell_type": "code",
   "execution_count": 22,
   "id": "757c3aab-e6ab-4f35-a89b-44504137412f",
   "metadata": {},
   "outputs": [],
   "source": [
    "def getPlayerStat(soup):\n",
    "    playerList = []\n",
    "    standardStatsTable = soup.find(class_ = 'stats_table', id= 'stats_standard_dom_lg').tbody\n",
    "\n",
    "    for row in standardStatsTable.find_all('tr'):\n",
    "        time.sleep(1)\n",
    "        squad = row.find(attrs = {'data-stat':'team'}).text\n",
    "        \n",
    "        #check for  goals scored as a Man City player.\n",
    "        if squad == 'Manchester City':\n",
    "            season = row.find(attrs = {'data-stat':'year_id'}).text\n",
    "            goals = row.find(attrs = {'data-stat':'goals'}).text\n",
    "            playerList.append({'season': season, 'goals': goals})\n",
    "    return playerList"
   ]
  },
  {
   "cell_type": "code",
   "execution_count": 23,
   "id": "4b8730a9-b63f-4a63-83da-281cb613b366",
   "metadata": {},
   "outputs": [],
   "source": [
    "# iterate through each player link, HTML request page, append scraped goals and season \n",
    "playerStats = []\n",
    "for link in playerLinks:\n",
    "    page = get_website(link)\n",
    "    soup = bs(page)\n",
    "    playerStats.append(getPlayerStat(soup))\n",
    "    time.sleep(5)"
   ]
  },
  {
   "cell_type": "code",
   "execution_count": 24,
   "id": "6b2bb569-f4f2-46c4-a4f7-b32453be4091",
   "metadata": {},
   "outputs": [],
   "source": [
    "# playerStats"
   ]
  },
  {
   "cell_type": "code",
   "execution_count": 25,
   "id": "e50167b2-f63b-42d7-9eb8-f783524a4df0",
   "metadata": {},
   "outputs": [],
   "source": [
    "# playerStat is a list nested in a list, need loop to iterate through player and then season\n",
    "# append to new empty list, then convert to Data Frame \n",
    "cleanPlayerStats = []\n",
    "for player in playerStats:\n",
    "    for season in player:\n",
    "            cleanPlayerStats.append(season)\n",
    "dfPlayerStats = pd.DataFrame(cleanPlayerStats)"
   ]
  },
  {
   "cell_type": "code",
   "execution_count": 26,
   "id": "c0976368-38cb-4432-bc67-4458a59c68ce",
   "metadata": {},
   "outputs": [
    {
     "data": {
      "text/html": [
       "<div>\n",
       "<style scoped>\n",
       "    .dataframe tbody tr th:only-of-type {\n",
       "        vertical-align: middle;\n",
       "    }\n",
       "\n",
       "    .dataframe tbody tr th {\n",
       "        vertical-align: top;\n",
       "    }\n",
       "\n",
       "    .dataframe thead th {\n",
       "        text-align: right;\n",
       "    }\n",
       "</style>\n",
       "<table border=\"1\" class=\"dataframe\">\n",
       "  <thead>\n",
       "    <tr style=\"text-align: right;\">\n",
       "      <th></th>\n",
       "      <th>season</th>\n",
       "      <th>goals</th>\n",
       "    </tr>\n",
       "  </thead>\n",
       "  <tbody>\n",
       "    <tr>\n",
       "      <th>0</th>\n",
       "      <td>2017-2018</td>\n",
       "      <td>0</td>\n",
       "    </tr>\n",
       "    <tr>\n",
       "      <th>1</th>\n",
       "      <td>2018-2019</td>\n",
       "      <td>0</td>\n",
       "    </tr>\n",
       "    <tr>\n",
       "      <th>2</th>\n",
       "      <td>2019-2020</td>\n",
       "      <td>0</td>\n",
       "    </tr>\n",
       "    <tr>\n",
       "      <th>3</th>\n",
       "      <td>2020-2021</td>\n",
       "      <td>0</td>\n",
       "    </tr>\n",
       "    <tr>\n",
       "      <th>4</th>\n",
       "      <td>2021-2022</td>\n",
       "      <td>0</td>\n",
       "    </tr>\n",
       "    <tr>\n",
       "      <th>5</th>\n",
       "      <td>2022-2023</td>\n",
       "      <td>0</td>\n",
       "    </tr>\n",
       "    <tr>\n",
       "      <th>6</th>\n",
       "      <td>2023-2024</td>\n",
       "      <td>0</td>\n",
       "    </tr>\n",
       "    <tr>\n",
       "      <th>7</th>\n",
       "      <td>2024-2025</td>\n",
       "      <td>0</td>\n",
       "    </tr>\n",
       "    <tr>\n",
       "      <th>8</th>\n",
       "      <td>2022-2023</td>\n",
       "      <td>36</td>\n",
       "    </tr>\n",
       "    <tr>\n",
       "      <th>9</th>\n",
       "      <td>2023-2024</td>\n",
       "      <td>27</td>\n",
       "    </tr>\n",
       "  </tbody>\n",
       "</table>\n",
       "</div>"
      ],
      "text/plain": [
       "      season goals\n",
       "0  2017-2018     0\n",
       "1  2018-2019     0\n",
       "2  2019-2020     0\n",
       "3  2020-2021     0\n",
       "4  2021-2022     0\n",
       "5  2022-2023     0\n",
       "6  2023-2024     0\n",
       "7  2024-2025     0\n",
       "8  2022-2023    36\n",
       "9  2023-2024    27"
      ]
     },
     "execution_count": 26,
     "metadata": {},
     "output_type": "execute_result"
    }
   ],
   "source": [
    "dfPlayerStats.head(10)"
   ]
  },
  {
   "cell_type": "code",
   "execution_count": 27,
   "id": "c0ec49b4-b9dc-44b0-a6e3-9e08970d5fce",
   "metadata": {},
   "outputs": [],
   "source": [
    "# some entries of 'goals' column are empty, fill empty with 0 then convert coluumns to int\n",
    "# help from ChatGPT to fill empty rows with 0\n",
    "dfPlayerStats['goals'] = pd.to_numeric(dfPlayerStats['goals'], errors='coerce').fillna(0).astype(int)\n",
    "groupStats = dfPlayerStats.groupby('season', as_index = False)['goals'].sum()\n"
   ]
  },
  {
   "cell_type": "code",
   "execution_count": 28,
   "id": "1acc8bd7-eeca-4bfb-8d86-b07f5641df3d",
   "metadata": {},
   "outputs": [
    {
     "data": {
      "text/html": [
       "<div>\n",
       "<style scoped>\n",
       "    .dataframe tbody tr th:only-of-type {\n",
       "        vertical-align: middle;\n",
       "    }\n",
       "\n",
       "    .dataframe tbody tr th {\n",
       "        vertical-align: top;\n",
       "    }\n",
       "\n",
       "    .dataframe thead th {\n",
       "        text-align: right;\n",
       "    }\n",
       "</style>\n",
       "<table border=\"1\" class=\"dataframe\">\n",
       "  <thead>\n",
       "    <tr style=\"text-align: right;\">\n",
       "      <th></th>\n",
       "      <th>season</th>\n",
       "      <th>goals</th>\n",
       "    </tr>\n",
       "  </thead>\n",
       "  <tbody>\n",
       "    <tr>\n",
       "      <th>0</th>\n",
       "      <td>2015-2016</td>\n",
       "      <td>7</td>\n",
       "    </tr>\n",
       "    <tr>\n",
       "      <th>1</th>\n",
       "      <td>2016-2017</td>\n",
       "      <td>9</td>\n",
       "    </tr>\n",
       "    <tr>\n",
       "      <th>2</th>\n",
       "      <td>2017-2018</td>\n",
       "      <td>24</td>\n",
       "    </tr>\n",
       "    <tr>\n",
       "      <th>3</th>\n",
       "      <td>2018-2019</td>\n",
       "      <td>17</td>\n",
       "    </tr>\n",
       "    <tr>\n",
       "      <th>4</th>\n",
       "      <td>2019-2020</td>\n",
       "      <td>30</td>\n",
       "    </tr>\n",
       "    <tr>\n",
       "      <th>5</th>\n",
       "      <td>2020-2021</td>\n",
       "      <td>46</td>\n",
       "    </tr>\n",
       "    <tr>\n",
       "      <th>6</th>\n",
       "      <td>2021-2022</td>\n",
       "      <td>76</td>\n",
       "    </tr>\n",
       "    <tr>\n",
       "      <th>7</th>\n",
       "      <td>2022-2023</td>\n",
       "      <td>76</td>\n",
       "    </tr>\n",
       "    <tr>\n",
       "      <th>8</th>\n",
       "      <td>2023-2024</td>\n",
       "      <td>87</td>\n",
       "    </tr>\n",
       "    <tr>\n",
       "      <th>9</th>\n",
       "      <td>2024-2025</td>\n",
       "      <td>25</td>\n",
       "    </tr>\n",
       "  </tbody>\n",
       "</table>\n",
       "</div>"
      ],
      "text/plain": [
       "      season  goals\n",
       "0  2015-2016      7\n",
       "1  2016-2017      9\n",
       "2  2017-2018     24\n",
       "3  2018-2019     17\n",
       "4  2019-2020     30\n",
       "5  2020-2021     46\n",
       "6  2021-2022     76\n",
       "7  2022-2023     76\n",
       "8  2023-2024     87\n",
       "9  2024-2025     25"
      ]
     },
     "execution_count": 28,
     "metadata": {},
     "output_type": "execute_result"
    }
   ],
   "source": [
    "groupStats"
   ]
  },
  {
   "cell_type": "code",
   "execution_count": 29,
   "id": "fade266c-7149-485f-b18f-7a38b54ef187",
   "metadata": {},
   "outputs": [
    {
     "name": "stderr",
     "output_type": "stream",
     "text": [
      "C:\\Users\\arkke\\AppData\\Local\\Temp\\ipykernel_11760\\95024225.py:6: UserWarning: set_ticklabels() should only be used with a fixed number of ticks, i.e. after set_ticks() or using a FixedLocator.\n",
      "  g.set_xticklabels(['2015', '2016', '2017', '2018', '2019', '2020', '2021', '2022', '2023', '2024'])\n"
     ]
    },
    {
     "data": {
      "text/plain": [
       "([<matplotlib.axis.YTick at 0x23f7f9a8560>,\n",
       "  <matplotlib.axis.YTick at 0x23f7ea002f0>,\n",
       "  <matplotlib.axis.YTick at 0x23f7f99dbe0>,\n",
       "  <matplotlib.axis.YTick at 0x23f7f9c7440>,\n",
       "  <matplotlib.axis.YTick at 0x23f7f9c7e30>,\n",
       "  <matplotlib.axis.YTick at 0x23f7f9bc830>,\n",
       "  <matplotlib.axis.YTick at 0x23f7ea00410>,\n",
       "  <matplotlib.axis.YTick at 0x23f7f9bcf80>,\n",
       "  <matplotlib.axis.YTick at 0x23f7f9bd8b0>,\n",
       "  <matplotlib.axis.YTick at 0x23f7f9be270>],\n",
       " [Text(0, 0, '0'),\n",
       "  Text(0, 10, '10'),\n",
       "  Text(0, 20, '20'),\n",
       "  Text(0, 30, '30'),\n",
       "  Text(0, 40, '40'),\n",
       "  Text(0, 50, '50'),\n",
       "  Text(0, 60, '60'),\n",
       "  Text(0, 70, '70'),\n",
       "  Text(0, 80, '80'),\n",
       "  Text(0, 90, '90')])"
      ]
     },
     "execution_count": 29,
     "metadata": {},
     "output_type": "execute_result"
    },
    {
     "data": {
      "image/png": "[encoded data removed]",
      "text/plain": [
       "<Figure size 640x480 with 1 Axes>"
      ]
     },
     "metadata": {},
     "output_type": "display_data"
    }
   ],
   "source": [
    "# seaborn to plot\n",
    "sns.set(style = 'darkgrid')\n",
    "g = sns.barplot(x = 'season', y = 'goals', data = groupStats)\n",
    "plt.title(\"Total Team Goals from 2015-2024\")\n",
    "plt.xlabel('Seasons')\n",
    "g.set_xticklabels(['2015', '2016', '2017', '2018', '2019', '2020', '2021', '2022', '2023', '2024'])\n",
    "plt.ylabel('Goals')\n",
    "plt.yticks(np.arange(0, 100, 10))"
   ]
  },
  {
   "cell_type": "markdown",
   "id": "0cdb1ed5-b071-45f5-8a87-754b506dd3dc",
   "metadata": {},
   "source": [
    "#### Answer: The plot above shows Manchest City goals with the current roster from 2015 to the current season. In 2023 the current roster had the most goals with 87 goals. The 2022 & 2023 season were next highest, tied at 76 goals. The current season climbing with about 30% of the previous season's goals."
   ]
  },
  {
   "cell_type": "code",
   "execution_count": null,
   "id": "1a5fbc18-3c2a-4a66-9aa9-38db29daadbb",
   "metadata": {},
   "outputs": [],
   "source": []
  },
  {
   "cell_type": "markdown",
   "id": "d77a3e67-44f1-460c-9264-3e4dd5aa8707",
   "metadata": {},
   "source": [
    "## Question 3: What positions make the most tackles and what third of the field do they occur in?"
   ]
  },
  {
   "cell_type": "markdown",
   "id": "524c7ac3-5426-4956-8462-59ac58223d04",
   "metadata": {},
   "source": [
    "The below will scrape from [FBref: Manchester City Page](https://fbref.com/en/squads/b8fd03ef/Manchester-City-Stats). The Defense table will be collected. From there, position, total tackles, & tackles of each third are scraped and put in a Data Frame. The sum of tackles in each third is compared and the positions making those tackles are summed as well."
   ]
  },
  {
   "cell_type": "code",
   "execution_count": 33,
   "id": "ada663c9-b147-4040-8b5f-da798695ca41",
   "metadata": {},
   "outputs": [],
   "source": [
    "url = 'https://fbref.com/en/squads/b8fd03ef/Manchester-City-Stats'\n",
    "page = get_website(url)\n",
    "soup = bs(page)"
   ]
  },
  {
   "cell_type": "code",
   "execution_count": 34,
   "id": "723bb50a-006a-4d98-b40f-18b2ba1311d6",
   "metadata": {},
   "outputs": [],
   "source": [
    "# scraping Defense Action table from website\n",
    "defense = []\n",
    "defenseTable = soup.find(class_ = 'stats_table', id = 'stats_defense_9').tbody\n",
    "\n",
    "# scraping player position, # of tackles, # of tackles made in defensive, middle, offensive third\n",
    "for row in defenseTable.find_all('tr'):\n",
    "    position = row.find(attrs = {'data-stat':'position'}).text\n",
    "    tackles = row.find(attrs = {'data-stat':'tackles'}).text\n",
    "    defThird = row.find(attrs = {'data-stat':'tackles_def_3rd'}).text\n",
    "    midThird = row.find(attrs = {'data-stat':'tackles_mid_3rd'}).text\n",
    "    attThird = row.find(attrs = {'data-stat':'tackles_att_3rd'}).text\n",
    "    \n",
    "    defense.append({'position': position, 'total tackles': tackles, 'defensive 3rd': defThird, 'middle 3rd': midThird, 'attacking 3rd': attThird})\n",
    "tacklesMade = pd.DataFrame(defense)\n"
   ]
  },
  {
   "cell_type": "code",
   "execution_count": 35,
   "id": "48c85875-955f-4e0c-9b50-af313d9bdfa7",
   "metadata": {},
   "outputs": [],
   "source": [
    "# convert table to into integers for count\n",
    "tacklesMade['total tackles'] = tacklesMade['total tackles'].astype(int)\n",
    "tacklesMade['defensive 3rd'] = tacklesMade['defensive 3rd'].astype(int)\n",
    "tacklesMade['middle 3rd'] = tacklesMade['middle 3rd'].astype(int)\n",
    "tacklesMade['attacking 3rd'] = tacklesMade['attacking 3rd'].astype(int)"
   ]
  },
  {
   "cell_type": "code",
   "execution_count": 36,
   "id": "6d944955-78b7-438c-a5c3-44f8bb212398",
   "metadata": {},
   "outputs": [
    {
     "data": {
      "text/html": [
       "<div>\n",
       "<style scoped>\n",
       "    .dataframe tbody tr th:only-of-type {\n",
       "        vertical-align: middle;\n",
       "    }\n",
       "\n",
       "    .dataframe tbody tr th {\n",
       "        vertical-align: top;\n",
       "    }\n",
       "\n",
       "    .dataframe thead th {\n",
       "        text-align: right;\n",
       "    }\n",
       "</style>\n",
       "<table border=\"1\" class=\"dataframe\">\n",
       "  <thead>\n",
       "    <tr style=\"text-align: right;\">\n",
       "      <th></th>\n",
       "      <th>position</th>\n",
       "      <th>total tackles</th>\n",
       "      <th>defensive 3rd</th>\n",
       "      <th>middle 3rd</th>\n",
       "      <th>attacking 3rd</th>\n",
       "    </tr>\n",
       "  </thead>\n",
       "  <tbody>\n",
       "    <tr>\n",
       "      <th>0</th>\n",
       "      <td>GK</td>\n",
       "      <td>0</td>\n",
       "      <td>0</td>\n",
       "      <td>0</td>\n",
       "      <td>0</td>\n",
       "    </tr>\n",
       "    <tr>\n",
       "      <th>1</th>\n",
       "      <td>FW</td>\n",
       "      <td>2</td>\n",
       "      <td>0</td>\n",
       "      <td>1</td>\n",
       "      <td>1</td>\n",
       "    </tr>\n",
       "    <tr>\n",
       "      <th>2</th>\n",
       "      <td>DF</td>\n",
       "      <td>18</td>\n",
       "      <td>9</td>\n",
       "      <td>5</td>\n",
       "      <td>4</td>\n",
       "    </tr>\n",
       "    <tr>\n",
       "      <th>3</th>\n",
       "      <td>MF,FW</td>\n",
       "      <td>8</td>\n",
       "      <td>0</td>\n",
       "      <td>3</td>\n",
       "      <td>5</td>\n",
       "    </tr>\n",
       "    <tr>\n",
       "      <th>4</th>\n",
       "      <td>MF</td>\n",
       "      <td>22</td>\n",
       "      <td>5</td>\n",
       "      <td>12</td>\n",
       "      <td>5</td>\n",
       "    </tr>\n",
       "  </tbody>\n",
       "</table>\n",
       "</div>"
      ],
      "text/plain": [
       "  position  total tackles  defensive 3rd  middle 3rd  attacking 3rd\n",
       "0       GK              0              0           0              0\n",
       "1       FW              2              0           1              1\n",
       "2       DF             18              9           5              4\n",
       "3    MF,FW              8              0           3              5\n",
       "4       MF             22              5          12              5"
      ]
     },
     "execution_count": 36,
     "metadata": {},
     "output_type": "execute_result"
    }
   ],
   "source": [
    "tacklesMade.head()"
   ]
  },
  {
   "cell_type": "code",
   "execution_count": 37,
   "id": "7f19101f-dfdb-48c2-9d66-00b313e097b3",
   "metadata": {},
   "outputs": [
    {
     "data": {
      "text/html": [
       "<div>\n",
       "<style scoped>\n",
       "    .dataframe tbody tr th:only-of-type {\n",
       "        vertical-align: middle;\n",
       "    }\n",
       "\n",
       "    .dataframe tbody tr th {\n",
       "        vertical-align: top;\n",
       "    }\n",
       "\n",
       "    .dataframe thead th {\n",
       "        text-align: right;\n",
       "    }\n",
       "</style>\n",
       "<table border=\"1\" class=\"dataframe\">\n",
       "  <thead>\n",
       "    <tr style=\"text-align: right;\">\n",
       "      <th></th>\n",
       "      <th>position</th>\n",
       "      <th>total tackles</th>\n",
       "      <th>defensive 3rd</th>\n",
       "      <th>middle 3rd</th>\n",
       "      <th>attacking 3rd</th>\n",
       "    </tr>\n",
       "  </thead>\n",
       "  <tbody>\n",
       "    <tr>\n",
       "      <th>0</th>\n",
       "      <td>GK</td>\n",
       "      <td>0</td>\n",
       "      <td>0</td>\n",
       "      <td>0</td>\n",
       "      <td>0</td>\n",
       "    </tr>\n",
       "    <tr>\n",
       "      <th>1</th>\n",
       "      <td>FW</td>\n",
       "      <td>2</td>\n",
       "      <td>0</td>\n",
       "      <td>1</td>\n",
       "      <td>1</td>\n",
       "    </tr>\n",
       "    <tr>\n",
       "      <th>2</th>\n",
       "      <td>DF</td>\n",
       "      <td>18</td>\n",
       "      <td>9</td>\n",
       "      <td>5</td>\n",
       "      <td>4</td>\n",
       "    </tr>\n",
       "    <tr>\n",
       "      <th>3</th>\n",
       "      <td>MF</td>\n",
       "      <td>8</td>\n",
       "      <td>0</td>\n",
       "      <td>3</td>\n",
       "      <td>5</td>\n",
       "    </tr>\n",
       "    <tr>\n",
       "      <th>4</th>\n",
       "      <td>MF</td>\n",
       "      <td>22</td>\n",
       "      <td>5</td>\n",
       "      <td>12</td>\n",
       "      <td>5</td>\n",
       "    </tr>\n",
       "  </tbody>\n",
       "</table>\n",
       "</div>"
      ],
      "text/plain": [
       "  position  total tackles  defensive 3rd  middle 3rd  attacking 3rd\n",
       "0       GK              0              0           0              0\n",
       "1       FW              2              0           1              1\n",
       "2       DF             18              9           5              4\n",
       "3       MF              8              0           3              5\n",
       "4       MF             22              5          12              5"
      ]
     },
     "execution_count": 37,
     "metadata": {},
     "output_type": "execute_result"
    }
   ],
   "source": [
    "# this removes secondary positions of players that have 2\n",
    "tacklesMade['position'] = tacklesMade['position'].str.split(',').str[0]\n",
    "tacklesMade.head()"
   ]
  },
  {
   "cell_type": "code",
   "execution_count": 38,
   "id": "76db658a-2d95-4854-81e6-d00d62dddc22",
   "metadata": {},
   "outputs": [
    {
     "data": {
      "text/html": [
       "<div>\n",
       "<style scoped>\n",
       "    .dataframe tbody tr th:only-of-type {\n",
       "        vertical-align: middle;\n",
       "    }\n",
       "\n",
       "    .dataframe tbody tr th {\n",
       "        vertical-align: top;\n",
       "    }\n",
       "\n",
       "    .dataframe thead th {\n",
       "        text-align: right;\n",
       "    }\n",
       "</style>\n",
       "<table border=\"1\" class=\"dataframe\">\n",
       "  <thead>\n",
       "    <tr style=\"text-align: right;\">\n",
       "      <th></th>\n",
       "      <th>total tackles</th>\n",
       "      <th>defensive 3rd</th>\n",
       "      <th>middle 3rd</th>\n",
       "      <th>attacking 3rd</th>\n",
       "    </tr>\n",
       "    <tr>\n",
       "      <th>position</th>\n",
       "      <th></th>\n",
       "      <th></th>\n",
       "      <th></th>\n",
       "      <th></th>\n",
       "    </tr>\n",
       "  </thead>\n",
       "  <tbody>\n",
       "    <tr>\n",
       "      <th>DF</th>\n",
       "      <td>42</td>\n",
       "      <td>20</td>\n",
       "      <td>14</td>\n",
       "      <td>8</td>\n",
       "    </tr>\n",
       "    <tr>\n",
       "      <th>FW</th>\n",
       "      <td>27</td>\n",
       "      <td>8</td>\n",
       "      <td>7</td>\n",
       "      <td>12</td>\n",
       "    </tr>\n",
       "    <tr>\n",
       "      <th>GK</th>\n",
       "      <td>0</td>\n",
       "      <td>0</td>\n",
       "      <td>0</td>\n",
       "      <td>0</td>\n",
       "    </tr>\n",
       "    <tr>\n",
       "      <th>MF</th>\n",
       "      <td>63</td>\n",
       "      <td>20</td>\n",
       "      <td>29</td>\n",
       "      <td>14</td>\n",
       "    </tr>\n",
       "  </tbody>\n",
       "</table>\n",
       "</div>"
      ],
      "text/plain": [
       "          total tackles  defensive 3rd  middle 3rd  attacking 3rd\n",
       "position                                                         \n",
       "DF                   42             20          14              8\n",
       "FW                   27              8           7             12\n",
       "GK                    0              0           0              0\n",
       "MF                   63             20          29             14"
      ]
     },
     "execution_count": 38,
     "metadata": {},
     "output_type": "execute_result"
    }
   ],
   "source": [
    "# sum tackles for each third of field, group by position\n",
    "positionTackles = tacklesMade.groupby('position').sum()\n",
    "positionTackles"
   ]
  },
  {
   "cell_type": "code",
   "execution_count": 39,
   "id": "35789453-194e-46de-8895-7ff7e77ac9ca",
   "metadata": {},
   "outputs": [
    {
     "data": {
      "text/plain": [
       "total tackles    MF\n",
       "defensive 3rd    DF\n",
       "middle 3rd       MF\n",
       "attacking 3rd    MF\n",
       "dtype: object"
      ]
     },
     "execution_count": 39,
     "metadata": {},
     "output_type": "execute_result"
    }
   ],
   "source": [
    "# most tackles by position\n",
    "mostTacklesPosition = positionTackles.idxmax()\n",
    "mostTacklesPosition"
   ]
  },
  {
   "cell_type": "code",
   "execution_count": 40,
   "id": "b90405cc-32c3-469f-9919-a72434581a76",
   "metadata": {},
   "outputs": [
    {
     "name": "stdout",
     "output_type": "stream",
     "text": [
      "defensive tackles: 48\n",
      "middle tackles: 50\n",
      "attacking tackles: 34\n"
     ]
    }
   ],
   "source": [
    "print(f'defensive tackles: {tacklesMade['defensive 3rd'].sum()}')\n",
    "print(f'middle tackles: {tacklesMade['middle 3rd'].sum()}')\n",
    "print(f'attacking tackles: {tacklesMade['attacking 3rd'].sum()}')"
   ]
  },
  {
   "cell_type": "markdown",
   "id": "da69d9a8-59b1-466b-9580-8341db4f8e6c",
   "metadata": {},
   "source": [
    "#### Answer: The data shows a majority of tackles happen in the middle third of the field with 50 tackles this 2024 season. The defensive third has the second most tackles with 48 this season. Mid fielders make the most tackles for the team overall."
   ]
  },
  {
   "cell_type": "code",
   "execution_count": null,
   "id": "d9242711-216e-41ed-9da4-bf04d8f9e200",
   "metadata": {},
   "outputs": [],
   "source": []
  },
  {
   "cell_type": "markdown",
   "id": "7bb0b3bf-fddf-4d25-8f49-195e812e341a",
   "metadata": {},
   "source": [
    "## Question 4: How many players current goals are higher than their expected goals? What are the players names?\n"
   ]
  },
  {
   "cell_type": "markdown",
   "id": "3adc8b24-c961-4563-94ac-b110c79464f1",
   "metadata": {},
   "source": [
    "Continuing with the same link, the Standard Stats table is scraped for player name, number of goals this season, and expected goals this season. Then the Data Frame holding this data is cleaned "
   ]
  },
  {
   "cell_type": "code",
   "execution_count": 44,
   "id": "a1e942ae-2e99-4031-9922-0ef46c2fb2a2",
   "metadata": {},
   "outputs": [],
   "source": [
    "expGoals = []\n",
    "standardTable = soup.find(class_ = 'stats_table').tbody\n",
    "# standard_table\n",
    "\n",
    "for row in standardTable.find_all('tr'):\n",
    "    player = row.find(attrs = {'data-stat':'player'}).text\n",
    "    numGoals = row.find(attrs = {'data-stat':'goals'}).text\n",
    "    xptGoals = row.find(attrs = {'data-stat':'xg'}).text\n",
    "    \n",
    "    expGoals.append({'player': player, 'goals': numGoals, 'expected goals': xptGoals})\n",
    "goalCompare = pd.DataFrame(expGoals)"
   ]
  },
  {
   "cell_type": "code",
   "execution_count": 45,
   "id": "637300b8-beb7-4001-80b4-d4fd9c4ec74c",
   "metadata": {},
   "outputs": [
    {
     "data": {
      "text/html": [
       "<div>\n",
       "<style scoped>\n",
       "    .dataframe tbody tr th:only-of-type {\n",
       "        vertical-align: middle;\n",
       "    }\n",
       "\n",
       "    .dataframe tbody tr th {\n",
       "        vertical-align: top;\n",
       "    }\n",
       "\n",
       "    .dataframe thead th {\n",
       "        text-align: right;\n",
       "    }\n",
       "</style>\n",
       "<table border=\"1\" class=\"dataframe\">\n",
       "  <thead>\n",
       "    <tr style=\"text-align: right;\">\n",
       "      <th></th>\n",
       "      <th>player</th>\n",
       "      <th>goals</th>\n",
       "      <th>expected goals</th>\n",
       "    </tr>\n",
       "  </thead>\n",
       "  <tbody>\n",
       "    <tr>\n",
       "      <th>0</th>\n",
       "      <td>Ederson</td>\n",
       "      <td>0</td>\n",
       "      <td>0.0</td>\n",
       "    </tr>\n",
       "    <tr>\n",
       "      <th>1</th>\n",
       "      <td>Erling Haaland</td>\n",
       "      <td>11</td>\n",
       "      <td>9.7</td>\n",
       "    </tr>\n",
       "    <tr>\n",
       "      <th>2</th>\n",
       "      <td>Joško Gvardiol</td>\n",
       "      <td>3</td>\n",
       "      <td>0.6</td>\n",
       "    </tr>\n",
       "    <tr>\n",
       "      <th>3</th>\n",
       "      <td>Bernardo Silva</td>\n",
       "      <td>0</td>\n",
       "      <td>1.4</td>\n",
       "    </tr>\n",
       "    <tr>\n",
       "      <th>4</th>\n",
       "      <td>Mateo Kovačić</td>\n",
       "      <td>3</td>\n",
       "      <td>0.9</td>\n",
       "    </tr>\n",
       "    <tr>\n",
       "      <th>5</th>\n",
       "      <td>Manuel Akanji</td>\n",
       "      <td>0</td>\n",
       "      <td>0.1</td>\n",
       "    </tr>\n",
       "    <tr>\n",
       "      <th>6</th>\n",
       "      <td>Rúben Dias</td>\n",
       "      <td>0</td>\n",
       "      <td>0.6</td>\n",
       "    </tr>\n",
       "    <tr>\n",
       "      <th>7</th>\n",
       "      <td>Rico Lewis</td>\n",
       "      <td>0</td>\n",
       "      <td>0.7</td>\n",
       "    </tr>\n",
       "    <tr>\n",
       "      <th>8</th>\n",
       "      <td>İlkay Gündoğan</td>\n",
       "      <td>0</td>\n",
       "      <td>1.3</td>\n",
       "    </tr>\n",
       "    <tr>\n",
       "      <th>9</th>\n",
       "      <td>Sávio</td>\n",
       "      <td>0</td>\n",
       "      <td>1.1</td>\n",
       "    </tr>\n",
       "  </tbody>\n",
       "</table>\n",
       "</div>"
      ],
      "text/plain": [
       "           player  goals  expected goals\n",
       "0         Ederson      0             0.0\n",
       "1  Erling Haaland     11             9.7\n",
       "2  Joško Gvardiol      3             0.6\n",
       "3  Bernardo Silva      0             1.4\n",
       "4   Mateo Kovačić      3             0.9\n",
       "5   Manuel Akanji      0             0.1\n",
       "6      Rúben Dias      0             0.6\n",
       "7      Rico Lewis      0             0.7\n",
       "8  İlkay Gündoğan      0             1.3\n",
       "9           Sávio      0             1.1"
      ]
     },
     "execution_count": 45,
     "metadata": {},
     "output_type": "execute_result"
    }
   ],
   "source": [
    "# clean DataFrame for empty rows and convert to numeric\n",
    "goalCompare= goalCompare[goalCompare['goals'] != '']\n",
    "goalCompare['goals'] = goalCompare['goals'].astype(int)\n",
    "goalCompare['expected goals'] = goalCompare['expected goals'].astype(float)\n",
    "goalCompare.head(10)"
   ]
  },
  {
   "cell_type": "code",
   "execution_count": 46,
   "id": "67a38f78-7eb7-47c6-8839-8fffbff46bc2",
   "metadata": {},
   "outputs": [
    {
     "data": {
      "text/html": [
       "<div>\n",
       "<style scoped>\n",
       "    .dataframe tbody tr th:only-of-type {\n",
       "        vertical-align: middle;\n",
       "    }\n",
       "\n",
       "    .dataframe tbody tr th {\n",
       "        vertical-align: top;\n",
       "    }\n",
       "\n",
       "    .dataframe thead th {\n",
       "        text-align: right;\n",
       "    }\n",
       "</style>\n",
       "<table border=\"1\" class=\"dataframe\">\n",
       "  <thead>\n",
       "    <tr style=\"text-align: right;\">\n",
       "      <th></th>\n",
       "      <th>players</th>\n",
       "      <th>goals scored</th>\n",
       "      <th>expected goals</th>\n",
       "    </tr>\n",
       "  </thead>\n",
       "  <tbody>\n",
       "    <tr>\n",
       "      <th>0</th>\n",
       "      <td>Erling Haaland</td>\n",
       "      <td>11</td>\n",
       "      <td>9.7</td>\n",
       "    </tr>\n",
       "    <tr>\n",
       "      <th>1</th>\n",
       "      <td>Joško Gvardiol</td>\n",
       "      <td>3</td>\n",
       "      <td>0.6</td>\n",
       "    </tr>\n",
       "    <tr>\n",
       "      <th>2</th>\n",
       "      <td>Mateo Kovačić</td>\n",
       "      <td>3</td>\n",
       "      <td>0.9</td>\n",
       "    </tr>\n",
       "    <tr>\n",
       "      <th>3</th>\n",
       "      <td>Jeremy Doku</td>\n",
       "      <td>1</td>\n",
       "      <td>0.4</td>\n",
       "    </tr>\n",
       "    <tr>\n",
       "      <th>4</th>\n",
       "      <td>John Stones</td>\n",
       "      <td>2</td>\n",
       "      <td>0.4</td>\n",
       "    </tr>\n",
       "  </tbody>\n",
       "</table>\n",
       "</div>"
      ],
      "text/plain": [
       "          players  goals scored  expected goals\n",
       "0  Erling Haaland            11             9.7\n",
       "1  Joško Gvardiol             3             0.6\n",
       "2   Mateo Kovačić             3             0.9\n",
       "3     Jeremy Doku             1             0.4\n",
       "4     John Stones             2             0.4"
      ]
     },
     "execution_count": 46,
     "metadata": {},
     "output_type": "execute_result"
    }
   ],
   "source": [
    "# iterate through Dataframe and compare goals scored to excpected goals, if the player is outperforming the expected add to list \n",
    "aboveExpected = []\n",
    "for row, col in goalCompare.iterrows():\n",
    "    if col['goals'] > col ['expected goals']:\n",
    "        aboveExpected.append(col.tolist())\n",
    "aE = pd.DataFrame(aboveExpected)\n",
    "aE.rename(columns = {0: 'players', 1: 'goals scored', 2: 'expected goals'}, inplace = True)\n",
    "aE"
   ]
  },
  {
   "cell_type": "code",
   "execution_count": 47,
   "id": "e44c26f3-96db-42c8-a1b1-6a58626eb833",
   "metadata": {},
   "outputs": [
    {
     "data": {
      "text/plain": [
       "Text(0, 0.5, 'Goals')"
      ]
     },
     "execution_count": 47,
     "metadata": {},
     "output_type": "execute_result"
    },
    {
     "data": {
      "image/png": "[encoded data removed]",
      "text/plain": [
       "<Figure size 640x480 with 1 Axes>"
      ]
     },
     "metadata": {},
     "output_type": "display_data"
    }
   ],
   "source": [
    "# plot data\n",
    "sns.set()\n",
    "aE.plot(kind = 'bar')\n",
    "\n",
    "plt.title(\"All Manchester City Players Exceeding Their Expected Goals\")\n",
    "plt.xlabel('Players', fontsize = 12)\n",
    "plt.xticks(range(len(aE)), labels = aE['players'], rotation = 0, fontsize = 9)\n",
    "plt.ylabel('Goals', fontsize = 12)"
   ]
  },
  {
   "cell_type": "markdown",
   "id": "4f3d6b17-8dd6-441b-a2d7-ec465772e8b3",
   "metadata": {
    "scrolled": true
   },
   "source": [
    "#### Answer: The plot above shows that there are five players who are out performing their current expected goals this season. Josko Gvardiol has the best ratio between scored and expected, while Erling Haaland is the current goal leader."
   ]
  },
  {
   "cell_type": "code",
   "execution_count": null,
   "id": "af33af66-0b7b-42bd-bd2b-d537eb6cd552",
   "metadata": {},
   "outputs": [],
   "source": []
  }
 ],
 "metadata": {
  "kernelspec": {
   "display_name": "Python 3 (ipykernel)",
   "language": "python",
   "name": "python3"
  },
  "language_info": {
   "codemirror_mode": {
    "name": "ipython",
    "version": 3
   },
   "file_extension": ".py",
   "mimetype": "text/x-python",
   "name": "python",
   "nbconvert_exporter": "python",
   "pygments_lexer": "ipython3",
   "version": "3.12.3"
  }
 },
 "nbformat": 4,
 "nbformat_minor": 5
}
